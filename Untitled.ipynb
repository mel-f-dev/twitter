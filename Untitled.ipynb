{
 "cells": [
  {
   "cell_type": "code",
   "execution_count": null,
   "metadata": {},
   "outputs": [],
   "source": []
  },
  {
   "cell_type": "code",
   "execution_count": null,
   "metadata": {},
   "outputs": [],
   "source": []
  },
  {
   "cell_type": "markdown",
   "metadata": {},
   "source": [
    "# 다우지수 시계열 데이터 로드"
   ]
  },
  {
   "cell_type": "code",
   "execution_count": 1,
   "metadata": {},
   "outputs": [
    {
     "name": "stderr",
     "output_type": "stream",
     "text": [
      "C:\\Users\\amelie\\Anaconda3\\lib\\site-packages\\pandas_datareader\\compat\\__init__.py:7: FutureWarning: pandas.util.testing is deprecated. Use the functions in the public API at pandas.testing instead.\n",
      "  from pandas.util.testing import assert_frame_equal\n"
     ]
    }
   ],
   "source": [
    "import pandas_datareader.data as web\n",
    "from matplotlib.pyplot import imshow"
   ]
  },
  {
   "cell_type": "code",
   "execution_count": 2,
   "metadata": {},
   "outputs": [],
   "source": [
    "# 데이터 로드\n",
    "dow30 = web.DataReader('^DJI', data_source = 'yahoo', start = '1/20/2017', end = '7/31/2020')"
   ]
  },
  {
   "cell_type": "code",
   "execution_count": 3,
   "metadata": {},
   "outputs": [
    {
     "data": {
      "text/html": [
       "<div>\n",
       "<style scoped>\n",
       "    .dataframe tbody tr th:only-of-type {\n",
       "        vertical-align: middle;\n",
       "    }\n",
       "\n",
       "    .dataframe tbody tr th {\n",
       "        vertical-align: top;\n",
       "    }\n",
       "\n",
       "    .dataframe thead th {\n",
       "        text-align: right;\n",
       "    }\n",
       "</style>\n",
       "<table border=\"1\" class=\"dataframe\">\n",
       "  <thead>\n",
       "    <tr style=\"text-align: right;\">\n",
       "      <th></th>\n",
       "      <th>High</th>\n",
       "      <th>Low</th>\n",
       "      <th>Open</th>\n",
       "      <th>Close</th>\n",
       "      <th>Volume</th>\n",
       "      <th>Adj Close</th>\n",
       "    </tr>\n",
       "    <tr>\n",
       "      <th>Date</th>\n",
       "      <th></th>\n",
       "      <th></th>\n",
       "      <th></th>\n",
       "      <th></th>\n",
       "      <th></th>\n",
       "      <th></th>\n",
       "    </tr>\n",
       "  </thead>\n",
       "  <tbody>\n",
       "    <tr>\n",
       "      <th>2017-01-19</th>\n",
       "      <td>19824.140625</td>\n",
       "      <td>19677.939453</td>\n",
       "      <td>19813.550781</td>\n",
       "      <td>19732.400391</td>\n",
       "      <td>301750000</td>\n",
       "      <td>19732.400391</td>\n",
       "    </tr>\n",
       "    <tr>\n",
       "      <th>2017-01-20</th>\n",
       "      <td>19843.939453</td>\n",
       "      <td>19759.140625</td>\n",
       "      <td>19795.060547</td>\n",
       "      <td>19827.250000</td>\n",
       "      <td>435260000</td>\n",
       "      <td>19827.250000</td>\n",
       "    </tr>\n",
       "    <tr>\n",
       "      <th>2017-01-23</th>\n",
       "      <td>19833.980469</td>\n",
       "      <td>19732.359375</td>\n",
       "      <td>19794.789062</td>\n",
       "      <td>19799.849609</td>\n",
       "      <td>326690000</td>\n",
       "      <td>19799.849609</td>\n",
       "    </tr>\n",
       "    <tr>\n",
       "      <th>2017-01-24</th>\n",
       "      <td>19949.240234</td>\n",
       "      <td>19786.710938</td>\n",
       "      <td>19794.679688</td>\n",
       "      <td>19912.710938</td>\n",
       "      <td>374460000</td>\n",
       "      <td>19912.710938</td>\n",
       "    </tr>\n",
       "    <tr>\n",
       "      <th>2017-01-25</th>\n",
       "      <td>20082.000000</td>\n",
       "      <td>19994.480469</td>\n",
       "      <td>19994.480469</td>\n",
       "      <td>20068.509766</td>\n",
       "      <td>372240000</td>\n",
       "      <td>20068.509766</td>\n",
       "    </tr>\n",
       "    <tr>\n",
       "      <th>...</th>\n",
       "      <td>...</td>\n",
       "      <td>...</td>\n",
       "      <td>...</td>\n",
       "      <td>...</td>\n",
       "      <td>...</td>\n",
       "      <td>...</td>\n",
       "    </tr>\n",
       "    <tr>\n",
       "      <th>2020-07-27</th>\n",
       "      <td>26625.460938</td>\n",
       "      <td>26426.919922</td>\n",
       "      <td>26447.669922</td>\n",
       "      <td>26584.769531</td>\n",
       "      <td>400930000</td>\n",
       "      <td>26584.769531</td>\n",
       "    </tr>\n",
       "    <tr>\n",
       "      <th>2020-07-28</th>\n",
       "      <td>26556.839844</td>\n",
       "      <td>26361.710938</td>\n",
       "      <td>26529.449219</td>\n",
       "      <td>26379.279297</td>\n",
       "      <td>361090000</td>\n",
       "      <td>26379.279297</td>\n",
       "    </tr>\n",
       "    <tr>\n",
       "      <th>2020-07-29</th>\n",
       "      <td>26602.449219</td>\n",
       "      <td>26375.390625</td>\n",
       "      <td>26388.439453</td>\n",
       "      <td>26539.570312</td>\n",
       "      <td>347580000</td>\n",
       "      <td>26539.570312</td>\n",
       "    </tr>\n",
       "    <tr>\n",
       "      <th>2020-07-30</th>\n",
       "      <td>26374.929688</td>\n",
       "      <td>25992.279297</td>\n",
       "      <td>26367.419922</td>\n",
       "      <td>26313.650391</td>\n",
       "      <td>351540000</td>\n",
       "      <td>26313.650391</td>\n",
       "    </tr>\n",
       "    <tr>\n",
       "      <th>2020-07-31</th>\n",
       "      <td>26440.019531</td>\n",
       "      <td>26013.589844</td>\n",
       "      <td>26409.330078</td>\n",
       "      <td>26428.320312</td>\n",
       "      <td>488050000</td>\n",
       "      <td>26428.320312</td>\n",
       "    </tr>\n",
       "  </tbody>\n",
       "</table>\n",
       "<p>890 rows × 6 columns</p>\n",
       "</div>"
      ],
      "text/plain": [
       "                    High           Low          Open         Close     Volume  \\\n",
       "Date                                                                            \n",
       "2017-01-19  19824.140625  19677.939453  19813.550781  19732.400391  301750000   \n",
       "2017-01-20  19843.939453  19759.140625  19795.060547  19827.250000  435260000   \n",
       "2017-01-23  19833.980469  19732.359375  19794.789062  19799.849609  326690000   \n",
       "2017-01-24  19949.240234  19786.710938  19794.679688  19912.710938  374460000   \n",
       "2017-01-25  20082.000000  19994.480469  19994.480469  20068.509766  372240000   \n",
       "...                  ...           ...           ...           ...        ...   \n",
       "2020-07-27  26625.460938  26426.919922  26447.669922  26584.769531  400930000   \n",
       "2020-07-28  26556.839844  26361.710938  26529.449219  26379.279297  361090000   \n",
       "2020-07-29  26602.449219  26375.390625  26388.439453  26539.570312  347580000   \n",
       "2020-07-30  26374.929688  25992.279297  26367.419922  26313.650391  351540000   \n",
       "2020-07-31  26440.019531  26013.589844  26409.330078  26428.320312  488050000   \n",
       "\n",
       "               Adj Close  \n",
       "Date                      \n",
       "2017-01-19  19732.400391  \n",
       "2017-01-20  19827.250000  \n",
       "2017-01-23  19799.849609  \n",
       "2017-01-24  19912.710938  \n",
       "2017-01-25  20068.509766  \n",
       "...                  ...  \n",
       "2020-07-27  26584.769531  \n",
       "2020-07-28  26379.279297  \n",
       "2020-07-29  26539.570312  \n",
       "2020-07-30  26313.650391  \n",
       "2020-07-31  26428.320312  \n",
       "\n",
       "[890 rows x 6 columns]"
      ]
     },
     "execution_count": 3,
     "metadata": {},
     "output_type": "execute_result"
    }
   ],
   "source": [
    "dow30"
   ]
  },
  {
   "cell_type": "code",
   "execution_count": 3,
   "metadata": {},
   "outputs": [
    {
     "data": {
      "text/plain": [
       "<matplotlib.axes._subplots.AxesSubplot at 0x25b6f2d83c8>"
      ]
     },
     "execution_count": 3,
     "metadata": {},
     "output_type": "execute_result"
    },
    {
     "data": {
      "image/png": "[encoded data removed]",
      "text/plain": [
       "<Figure size 1080x720 with 1 Axes>"
      ]
     },
     "metadata": {
      "needs_background": "light"
     },
     "output_type": "display_data"
    }
   ],
   "source": [
    "# 그래프\n",
    "dow30['Close'].plot(grid = True,figsize=(15,10))"
   ]
  },
  {
   "cell_type": "markdown",
   "metadata": {},
   "source": [
    "# plot.ly 패키지를 통한 인터렉티브 시각화"
   ]
  },
  {
   "cell_type": "markdown",
   "metadata": {},
   "source": [
    "## 패키지 세팅(plotly)"
   ]
  },
  {
   "cell_type": "code",
   "execution_count": 5,
   "metadata": {},
   "outputs": [
    {
     "name": "stdout",
     "output_type": "stream",
     "text": [
      "Collecting chart_studio\n",
      "  Downloading chart_studio-1.1.0-py3-none-any.whl (64 kB)\n",
      "Requirement already satisfied: requests in c:\\users\\amelie\\anaconda3\\lib\\site-packages (from chart_studio) (2.23.0)\n",
      "Requirement already satisfied: six in c:\\users\\amelie\\anaconda3\\lib\\site-packages (from chart_studio) (1.15.0)\n",
      "Collecting plotly\n",
      "  Downloading plotly-4.9.0-py2.py3-none-any.whl (12.9 MB)\n",
      "Collecting retrying>=1.3.3\n",
      "  Downloading retrying-1.3.3.tar.gz (10 kB)\n",
      "Requirement already satisfied: chardet<4,>=3.0.2 in c:\\users\\amelie\\anaconda3\\lib\\site-packages (from requests->chart_studio) (3.0.4)\n",
      "Requirement already satisfied: idna<3,>=2.5 in c:\\users\\amelie\\anaconda3\\lib\\site-packages (from requests->chart_studio) (2.9)\n",
      "Requirement already satisfied: certifi>=2017.4.17 in c:\\users\\amelie\\anaconda3\\lib\\site-packages (from requests->chart_studio) (2020.4.5.2)\n",
      "Requirement already satisfied: urllib3!=1.25.0,!=1.25.1,<1.26,>=1.21.1 in c:\\users\\amelie\\anaconda3\\lib\\site-packages (from requests->chart_studio) (1.25.9)\n",
      "Building wheels for collected packages: retrying\n",
      "  Building wheel for retrying (setup.py): started\n",
      "  Building wheel for retrying (setup.py): finished with status 'done'\n",
      "  Created wheel for retrying: filename=retrying-1.3.3-py3-none-any.whl size=11435 sha256=958382f167807221c57d422f949288fe35c61c12a5ff1b67359424ff0768b7c3\n",
      "  Stored in directory: c:\\users\\amelie\\appdata\\local\\pip\\cache\\wheels\\f9\\8d\\8d\\f6af3f7f9eea3553bc2fe6d53e4b287dad18b06a861ac56ddf\n",
      "Successfully built retrying\n",
      "Installing collected packages: retrying, plotly, chart-studio\n",
      "Successfully installed chart-studio-1.1.0 plotly-4.9.0 retrying-1.3.3\n",
      "Note: you may need to restart the kernel to use updated packages.\n"
     ]
    }
   ],
   "source": [
    "pip install chart_studio"
   ]
  },
  {
   "cell_type": "code",
   "execution_count": 6,
   "metadata": {},
   "outputs": [],
   "source": [
    "# api 패키지\n",
    "import chart_studio\n",
    "chart_studio.tools.set_credentials_file(username = 'iklues', api_key = 'N3slE4uJESX1GI3DF3YZ')\n",
    "\n",
    "from chart_studio.plotly import plot, iplot"
   ]
  },
  {
   "cell_type": "code",
   "execution_count": null,
   "metadata": {},
   "outputs": [],
   "source": [
    "# 기간 정의: 트럼프가 부정적 단어 포함한 트윗 한 날\n",
    "# 리스트로 '####-##-##'\n",
    "# negative_date = []"
   ]
  },
  {
   "cell_type": "code",
   "execution_count": null,
   "metadata": {},
   "outputs": [],
   "source": [
    "# 부정적 단어 포함한 트윗한 날에 하이라이팅 할 dict 데이터를 리스트 변수에 담기\n",
    "shape_list = []\n",
    "for num in range(0, len(negative_date), 2):\n",
    "    shape_list.append(dict(\n",
    "    type=\"rect\",\n",
    "    xref=\"x\",\n",
    "    yref=\"paper\",\n",
    "    x0=negative_date[num],\n",
    "    y0=0,\n",
    "    x1=negative_date[num+1],\n",
    "    y1=1,\n",
    "    fillcolor=\"LightSalmon\",\n",
    "    opacity=0.3,\n",
    "    layer=\"below\",\n",
    "    line_width=0))"
   ]
  },
  {
   "cell_type": "code",
   "execution_count": null,
   "metadata": {},
   "outputs": [],
   "source": [
    "# 코로나 기간 추가 -> 기준 모야?\n",
    "shape_list.append(dict(\n",
    "    type=\"rect\",\n",
    "    xref=\"x\",\n",
    "    yref=\"paper\",\n",
    "    x0=\"2020-02-25\",\n",
    "    y0=0,\n",
    "    x1=\"2020-07-31\",\n",
    "    y1=1,\n",
    "    fillcolor=\"LightSeaGreen\",\n",
    "    opacity=0.3,\n",
    "    layer=\"below\",\n",
    "    line_width=0))"
   ]
  }
 ],
 "metadata": {
  "kernelspec": {
   "display_name": "Python 3",
   "language": "python",
   "name": "python3"
  },
  "language_info": {
   "codemirror_mode": {
    "name": "ipython",
    "version": 3
   },
   "file_extension": ".py",
   "mimetype": "text/x-python",
   "name": "python",
   "nbconvert_exporter": "python",
   "pygments_lexer": "ipython3",
   "version": "3.7.7"
  },
  "toc": {
   "base_numbering": 1,
   "nav_menu": {},
   "number_sections": true,
   "sideBar": true,
   "skip_h1_title": false,
   "title_cell": "Table of Contents",
   "title_sidebar": "Contents",
   "toc_cell": false,
   "toc_position": {},
   "toc_section_display": true,
   "toc_window_display": false
  },
  "varInspector": {
   "cols": {
    "lenName": 16,
    "lenType": 16,
    "lenVar": 40
   },
   "kernels_config": {
    "python": {
     "delete_cmd_postfix": "",
     "delete_cmd_prefix": "del ",
     "library": "var_list.py",
     "varRefreshCmd": "print(var_dic_list())"
    },
    "r": {
     "delete_cmd_postfix": ") ",
     "delete_cmd_prefix": "rm(",
     "library": "var_list.r",
     "varRefreshCmd": "cat(var_dic_list()) "
    }
   },
   "types_to_exclude": [
    "module",
    "function",
    "builtin_function_or_method",
    "instance",
    "_Feature"
   ],
   "window_display": false
  }
 },
 "nbformat": 4,
 "nbformat_minor": 4
}

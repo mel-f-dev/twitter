{
 "cells": [
  {
   "cell_type": "code",
   "execution_count": null,
   "metadata": {},
   "outputs": [],
   "source": [
    "GetOldTweets3 -h"
   ]
  },
  {
   "cell_type": "markdown",
   "metadata": {},
   "source": [
    "# GetOldTweet3 패키지 설치"
   ]
  },
  {
   "cell_type": "code",
   "execution_count": null,
   "metadata": {
    "scrolled": true
   },
   "outputs": [],
   "source": [
    "pip install GetOldTweets3"
   ]
  },
  {
   "cell_type": "code",
   "execution_count": 11,
   "metadata": {},
   "outputs": [],
   "source": [
    "import GetOldTweets3 as got"
   ]
  },
  {
   "cell_type": "markdown",
   "metadata": {},
   "source": [
    "# BeautifulSoup4 설치 확인"
   ]
  },
  {
   "cell_type": "code",
   "execution_count": 12,
   "metadata": {},
   "outputs": [],
   "source": [
    "try:\n",
    "    from bs4 import BeautifulSoup\n",
    "except:\n",
    "    !pip install bs4\n",
    "    from bs4 import beautifulSoup"
   ]
  },
  {
   "cell_type": "markdown",
   "metadata": {},
   "source": [
    "# 수집기간 정의"
   ]
  },
  {
   "cell_type": "code",
   "execution_count": 13,
   "metadata": {},
   "outputs": [
    {
     "name": "stdout",
     "output_type": "stream",
     "text": [
      "===설정된 트윗 수집 기간: 2017-01-20 ~ 2019-12-30===\n",
      "===총 1075일 간의 데이터 수집===\n"
     ]
    }
   ],
   "source": [
    "# 가져올 범위 정의\n",
    "# 트럼프 임기 시작일: 2017년 1월 20일\n",
    "\n",
    "import datetime    # datetime 패키지\n",
    "\n",
    "days_range = []\n",
    "\n",
    "\n",
    "# https://datascienceschool.net/view-notebook/465066ac92ef4da3b0aba32f76d9750a/\n",
    "# datetime 패키지, datetime 클래스(날짜와 시간 함께 저장)\n",
    "# strptime 메서드: 문자열 반환\n",
    "start = datetime.datetime.strptime(\"2017-01-20\", \"%Y-%m-%d\")\n",
    "end = datetime.datetime.strptime(\"2019-12-31\", \"%Y-%m-%d\")\n",
    "\n",
    "date_generated = [start+datetime.timedelta(days=x) for x in range(0, (end-start).days)]\n",
    "\n",
    "for date in date_generated:\n",
    "    days_range.append(date.strftime(\"%Y-%m-%d\"))\n",
    "                                    \n",
    "print(\"===설정된 트윗 수집 기간: {} ~ {}===\".format(days_range[0], days_range[-1]))\n",
    "print(\"===총 {}일 간의 데이터 수집===\".format(len(days_range)))"
   ]
  },
  {
   "cell_type": "markdown",
   "metadata": {},
   "source": [
    "# 트윗 수집하기"
   ]
  },
  {
   "cell_type": "code",
   "execution_count": 26,
   "metadata": {},
   "outputs": [],
   "source": [
    "# tweetCriteria로 수집 기준 정의\n",
    "tweetCriteria = got.manager.TweetCriteria().setUsername(\"realDonaldTrump\").setSince(\"2017-01-20\").setUntil(\"2019-12-31\")"
   ]
  },
  {
   "cell_type": "code",
   "execution_count": 27,
   "metadata": {},
   "outputs": [
    {
     "name": "stdout",
     "output_type": "stream",
     "text": [
      "Collecting data start.. from 2017-01-20 to 2019-12-30\n",
      "Collecting data end.. 18.44 Minutes\n",
      "=== Total num of tweets is 9670 ===\n"
     ]
    }
   ],
   "source": [
    "import time\n",
    "\n",
    "# 수집\n",
    "print(\"Collecting data start.. from {} to {}\".format(days_range[0], days_range[-1]))\n",
    "start_time = time.time()\n",
    "\n",
    "tweet = got.manager.TweetManager.getTweets(tweetCriteria)\n",
    "\n",
    "print(\"Collecting data end.. {0:0.2f} Minutes\".format((time.time() - start_time)/60))\n",
    "print(\"=== Total num of tweets is {} ===\".format(len(tweet)))"
   ]
  },
  {
   "cell_type": "markdown",
   "metadata": {},
   "source": [
    "# 변수 저장하기"
   ]
  },
  {
   "cell_type": "code",
   "execution_count": 30,
   "metadata": {},
   "outputs": [
    {
     "data": {
      "application/vnd.jupyter.widget-view+json": {
       "model_id": "5b73e5aa71724e7e97bb4add900ed64a",
       "version_major": 2,
       "version_minor": 0
      },
      "text/plain": [
       "HBox(children=(IntProgress(value=0, max=9670), HTML(value='')))"
      ]
     },
     "metadata": {},
     "output_type": "display_data"
    },
    {
     "name": "stdout",
     "output_type": "stream",
     "text": [
      "\n"
     ]
    }
   ],
   "source": [
    "# 원하는 정보만 저장\n",
    "# 유저 아이디, 트윗 내용, 날짜, 좋아요 수, 리트윗 수, 링크\n",
    "\n",
    "from tqdm import tqdm_notebook\n",
    "\n",
    "# initialize\n",
    "tweet_list = []\n",
    "\n",
    "for i in tqdm_notebook(tweet):\n",
    "    \n",
    "    username = i.username\n",
    "    tweet_date = i.date.strftime(\"%Y-%m-%d\")\n",
    "    tweet_time = i.date.strftime(\"%H:%M:%dS\")\n",
    "    content = i.text\n",
    "    favorites = i.favorites\n",
    "    retweets = i.retweets\n",
    "    link = i.permalink\n",
    "    \n",
    "    info_list = [username, tweet_date, tweet_time, content, favorites, retweets, link]\n",
    "    tweet_list.append(info_list)"
   ]
  },
  {
   "cell_type": "markdown",
   "metadata": {},
   "source": [
    "# 파일 저장하기"
   ]
  },
  {
   "cell_type": "code",
   "execution_count": 31,
   "metadata": {},
   "outputs": [
    {
     "name": "stdout",
     "output_type": "stream",
     "text": [
      "=== 9670 tweets are successfully saved ===\n"
     ]
    }
   ],
   "source": [
    "import pandas as pd\n",
    "\n",
    "# 데이터프레임 생성\n",
    "twitter_df = pd.DataFrame(tweet_list, columns = [\"ID\", \"날짜\", \"시간\", \"내용\", \"리트윗 수\", \"좋아요 수\", \"링크\"])\n",
    "\n",
    "\n",
    "# csv 파일 만들기\n",
    "twitter_df.to_csv(\"sample_twitter_data_{}_to{}.csv\".format(days_range[0], days_range[-1]), index = False)\n",
    "print(\"=== {} tweets are successfully saved ===\".format(len(tweet_list)))"
   ]
  },
  {
   "cell_type": "markdown",
   "metadata": {},
   "source": [
    "# 파일 확인하기"
   ]
  },
  {
   "cell_type": "code",
   "execution_count": 49,
   "metadata": {},
   "outputs": [
    {
     "data": {
      "text/html": [
       "<div>\n",
       "<style scoped>\n",
       "    .dataframe tbody tr th:only-of-type {\n",
       "        vertical-align: middle;\n",
       "    }\n",
       "\n",
       "    .dataframe tbody tr th {\n",
       "        vertical-align: top;\n",
       "    }\n",
       "\n",
       "    .dataframe thead th {\n",
       "        text-align: right;\n",
       "    }\n",
       "</style>\n",
       "<table border=\"1\" class=\"dataframe\">\n",
       "  <thead>\n",
       "    <tr style=\"text-align: right;\">\n",
       "      <th></th>\n",
       "      <th>ID</th>\n",
       "      <th>날짜</th>\n",
       "      <th>시간</th>\n",
       "      <th>내용</th>\n",
       "      <th>리트윗 수</th>\n",
       "      <th>좋아요 수</th>\n",
       "      <th>링크</th>\n",
       "    </tr>\n",
       "  </thead>\n",
       "  <tbody>\n",
       "    <tr>\n",
       "      <th>0</th>\n",
       "      <td>realDonaldTrump</td>\n",
       "      <td>2019-12-30</td>\n",
       "      <td>22:23:30S</td>\n",
       "      <td>He is Fake News, will always be Fredo to us. I...</td>\n",
       "      <td>79417</td>\n",
       "      <td>19153</td>\n",
       "      <td>https://twitter.com/realDonaldTrump/status/121...</td>\n",
       "    </tr>\n",
       "    <tr>\n",
       "      <th>1</th>\n",
       "      <td>realDonaldTrump</td>\n",
       "      <td>2019-12-30</td>\n",
       "      <td>14:28:30S</td>\n",
       "      <td>Thank you to highly respected Jewish leader Do...</td>\n",
       "      <td>110202</td>\n",
       "      <td>20738</td>\n",
       "      <td>https://twitter.com/realDonaldTrump/status/121...</td>\n",
       "    </tr>\n",
       "    <tr>\n",
       "      <th>2</th>\n",
       "      <td>realDonaldTrump</td>\n",
       "      <td>2019-12-29</td>\n",
       "      <td>19:10:29S</td>\n",
       "      <td>The anti-Semitic attack in Monsey, New York, o...</td>\n",
       "      <td>160068</td>\n",
       "      <td>34627</td>\n",
       "      <td>https://twitter.com/realDonaldTrump/status/121...</td>\n",
       "    </tr>\n",
       "    <tr>\n",
       "      <th>3</th>\n",
       "      <td>realDonaldTrump</td>\n",
       "      <td>2019-12-29</td>\n",
       "      <td>14:55:29S</td>\n",
       "      <td>Crazy Nancy Pelosi should spend more time in h...</td>\n",
       "      <td>123696</td>\n",
       "      <td>37021</td>\n",
       "      <td>https://twitter.com/realDonaldTrump/status/121...</td>\n",
       "    </tr>\n",
       "    <tr>\n",
       "      <th>4</th>\n",
       "      <td>realDonaldTrump</td>\n",
       "      <td>2019-12-29</td>\n",
       "      <td>12:57:29S</td>\n",
       "      <td>Any answers Nancy?</td>\n",
       "      <td>112552</td>\n",
       "      <td>29914</td>\n",
       "      <td>https://twitter.com/realDonaldTrump/status/121...</td>\n",
       "    </tr>\n",
       "    <tr>\n",
       "      <th>5</th>\n",
       "      <td>realDonaldTrump</td>\n",
       "      <td>2019-12-29</td>\n",
       "      <td>00:00:29S</td>\n",
       "      <td>Tremendous Spirit!</td>\n",
       "      <td>92777</td>\n",
       "      <td>22814</td>\n",
       "      <td>https://twitter.com/realDonaldTrump/status/121...</td>\n",
       "    </tr>\n",
       "    <tr>\n",
       "      <th>6</th>\n",
       "      <td>realDonaldTrump</td>\n",
       "      <td>2019-12-28</td>\n",
       "      <td>23:58:28S</td>\n",
       "      <td>Thank you Joe. So good for our workers!</td>\n",
       "      <td>56431</td>\n",
       "      <td>13434</td>\n",
       "      <td>https://twitter.com/realDonaldTrump/status/121...</td>\n",
       "    </tr>\n",
       "    <tr>\n",
       "      <th>7</th>\n",
       "      <td>realDonaldTrump</td>\n",
       "      <td>2019-12-28</td>\n",
       "      <td>22:15:28S</td>\n",
       "      <td>A Dirty Cop at the highest level. Scum!</td>\n",
       "      <td>67283</td>\n",
       "      <td>19403</td>\n",
       "      <td>https://twitter.com/realDonaldTrump/status/121...</td>\n",
       "    </tr>\n",
       "    <tr>\n",
       "      <th>8</th>\n",
       "      <td>realDonaldTrump</td>\n",
       "      <td>2019-12-28</td>\n",
       "      <td>22:13:28S</td>\n",
       "      <td>Thank you Adriana!</td>\n",
       "      <td>33357</td>\n",
       "      <td>7508</td>\n",
       "      <td>https://twitter.com/realDonaldTrump/status/121...</td>\n",
       "    </tr>\n",
       "    <tr>\n",
       "      <th>9</th>\n",
       "      <td>realDonaldTrump</td>\n",
       "      <td>2019-12-28</td>\n",
       "      <td>21:14:28S</td>\n",
       "      <td>So sad to see that New York City and State are...</td>\n",
       "      <td>137563</td>\n",
       "      <td>29538</td>\n",
       "      <td>https://twitter.com/realDonaldTrump/status/121...</td>\n",
       "    </tr>\n",
       "  </tbody>\n",
       "</table>\n",
       "</div>"
      ],
      "text/plain": [
       "                ID          날짜         시간  \\\n",
       "0  realDonaldTrump  2019-12-30  22:23:30S   \n",
       "1  realDonaldTrump  2019-12-30  14:28:30S   \n",
       "2  realDonaldTrump  2019-12-29  19:10:29S   \n",
       "3  realDonaldTrump  2019-12-29  14:55:29S   \n",
       "4  realDonaldTrump  2019-12-29  12:57:29S   \n",
       "5  realDonaldTrump  2019-12-29  00:00:29S   \n",
       "6  realDonaldTrump  2019-12-28  23:58:28S   \n",
       "7  realDonaldTrump  2019-12-28  22:15:28S   \n",
       "8  realDonaldTrump  2019-12-28  22:13:28S   \n",
       "9  realDonaldTrump  2019-12-28  21:14:28S   \n",
       "\n",
       "                                                  내용   리트윗 수  좋아요 수  \\\n",
       "0  He is Fake News, will always be Fredo to us. I...   79417  19153   \n",
       "1  Thank you to highly respected Jewish leader Do...  110202  20738   \n",
       "2  The anti-Semitic attack in Monsey, New York, o...  160068  34627   \n",
       "3  Crazy Nancy Pelosi should spend more time in h...  123696  37021   \n",
       "4                                 Any answers Nancy?  112552  29914   \n",
       "5                                 Tremendous Spirit!   92777  22814   \n",
       "6            Thank you Joe. So good for our workers!   56431  13434   \n",
       "7            A Dirty Cop at the highest level. Scum!   67283  19403   \n",
       "8                                 Thank you Adriana!   33357   7508   \n",
       "9  So sad to see that New York City and State are...  137563  29538   \n",
       "\n",
       "                                                  링크  \n",
       "0  https://twitter.com/realDonaldTrump/status/121...  \n",
       "1  https://twitter.com/realDonaldTrump/status/121...  \n",
       "2  https://twitter.com/realDonaldTrump/status/121...  \n",
       "3  https://twitter.com/realDonaldTrump/status/121...  \n",
       "4  https://twitter.com/realDonaldTrump/status/121...  \n",
       "5  https://twitter.com/realDonaldTrump/status/121...  \n",
       "6  https://twitter.com/realDonaldTrump/status/121...  \n",
       "7  https://twitter.com/realDonaldTrump/status/121...  \n",
       "8  https://twitter.com/realDonaldTrump/status/121...  \n",
       "9  https://twitter.com/realDonaldTrump/status/121...  "
      ]
     },
     "execution_count": 49,
     "metadata": {},
     "output_type": "execute_result"
    }
   ],
   "source": [
    "df_tweet = pd.read_csv(\"sample_twitter_data_{}_to{}.csv\".format(days_range[0], days_range[-1]))\n",
    "df_tweet.head(10)"
   ]
  },
  {
   "cell_type": "code",
   "execution_count": 52,
   "metadata": {
    "scrolled": true
   },
   "outputs": [
    {
     "name": "stderr",
     "output_type": "stream",
     "text": [
      "C:\\Users\\Playdata\\Anaconda3\\lib\\site-packages\\ipykernel_launcher.py:1: FutureWarning: The signature of `Series.to_csv` was aligned to that of `DataFrame.to_csv`, and argument 'header' will change its default value from False to True: please pass an explicit value to suppress this warning.\n",
      "  \"\"\"Entry point for launching an IPython kernel.\n"
     ]
    }
   ],
   "source": [
    "df_tweet['내용'].to_csv(\"trump\")"
   ]
  },
  {
   "cell_type": "code",
   "execution_count": null,
   "metadata": {},
   "outputs": [],
   "source": [
    "자연어 처리\n",
    "- 의미없는 동사(be, 조동사 등등) 제외\n",
    "- 특수기호 제외\n",
    "- "
   ]
  },
  {
   "cell_type": "code",
   "execution_count": null,
   "metadata": {},
   "outputs": [],
   "source": [
    "다른 대통령 트위터와 비교\n",
    "빈도와 주가 상관관계"
   ]
  },
  {
   "cell_type": "code",
   "execution_count": 59,
   "metadata": {},
   "outputs": [],
   "source": [
    "crazy_date = df_tweet['날짜'] == '2019-03-17'"
   ]
  },
  {
   "cell_type": "code",
   "execution_count": 67,
   "metadata": {},
   "outputs": [
    {
     "data": {
      "text/html": [
       "<div>\n",
       "<style scoped>\n",
       "    .dataframe tbody tr th:only-of-type {\n",
       "        vertical-align: middle;\n",
       "    }\n",
       "\n",
       "    .dataframe tbody tr th {\n",
       "        vertical-align: top;\n",
       "    }\n",
       "\n",
       "    .dataframe thead th {\n",
       "        text-align: right;\n",
       "    }\n",
       "</style>\n",
       "<table border=\"1\" class=\"dataframe\">\n",
       "  <thead>\n",
       "    <tr style=\"text-align: right;\">\n",
       "      <th></th>\n",
       "      <th>ID</th>\n",
       "      <th>날짜</th>\n",
       "      <th>시간</th>\n",
       "      <th>내용</th>\n",
       "      <th>리트윗 수</th>\n",
       "      <th>좋아요 수</th>\n",
       "      <th>링크</th>\n",
       "    </tr>\n",
       "  </thead>\n",
       "  <tbody>\n",
       "    <tr>\n",
       "      <th>3928</th>\n",
       "      <td>realDonaldTrump</td>\n",
       "      <td>2019-03-17</td>\n",
       "      <td>23:16:17S</td>\n",
       "      <td>What the Democrats have done in trying to stea...</td>\n",
       "      <td>117913</td>\n",
       "      <td>31997</td>\n",
       "      <td>https://twitter.com/realDonaldTrump/status/110...</td>\n",
       "    </tr>\n",
       "    <tr>\n",
       "      <th>3929</th>\n",
       "      <td>realDonaldTrump</td>\n",
       "      <td>2019-03-17</td>\n",
       "      <td>22:27:17S</td>\n",
       "      <td>Just spoke to Mary Barra, CEO of General Motor...</td>\n",
       "      <td>104474</td>\n",
       "      <td>21342</td>\n",
       "      <td>https://twitter.com/realDonaldTrump/status/110...</td>\n",
       "    </tr>\n",
       "    <tr>\n",
       "      <th>3930</th>\n",
       "      <td>realDonaldTrump</td>\n",
       "      <td>2019-03-17</td>\n",
       "      <td>20:58:17S</td>\n",
       "      <td>Those Republican Senators who voted in favor o...</td>\n",
       "      <td>85166</td>\n",
       "      <td>19098</td>\n",
       "      <td>https://twitter.com/realDonaldTrump/status/110...</td>\n",
       "    </tr>\n",
       "    <tr>\n",
       "      <th>3931</th>\n",
       "      <td>realDonaldTrump</td>\n",
       "      <td>2019-03-17</td>\n",
       "      <td>18:18:17S</td>\n",
       "      <td>Were @FoxNews weekend anchors, @ArthelNeville ...</td>\n",
       "      <td>73649</td>\n",
       "      <td>18653</td>\n",
       "      <td>https://twitter.com/realDonaldTrump/status/110...</td>\n",
       "    </tr>\n",
       "    <tr>\n",
       "      <th>3932</th>\n",
       "      <td>realDonaldTrump</td>\n",
       "      <td>2019-03-17</td>\n",
       "      <td>17:38:17S</td>\n",
       "      <td>Democrat UAW Local 1112 President David Green ...</td>\n",
       "      <td>59097</td>\n",
       "      <td>13355</td>\n",
       "      <td>https://twitter.com/realDonaldTrump/status/110...</td>\n",
       "    </tr>\n",
       "    <tr>\n",
       "      <th>3933</th>\n",
       "      <td>realDonaldTrump</td>\n",
       "      <td>2019-03-17</td>\n",
       "      <td>13:53:17S</td>\n",
       "      <td>NaN</td>\n",
       "      <td>44036</td>\n",
       "      <td>12079</td>\n",
       "      <td>https://twitter.com/realDonaldTrump/status/110...</td>\n",
       "    </tr>\n",
       "    <tr>\n",
       "      <th>3934</th>\n",
       "      <td>realDonaldTrump</td>\n",
       "      <td>2019-03-17</td>\n",
       "      <td>13:44:17S</td>\n",
       "      <td>....to the people that got you there. Keep fig...</td>\n",
       "      <td>104621</td>\n",
       "      <td>28649</td>\n",
       "      <td>https://twitter.com/realDonaldTrump/status/110...</td>\n",
       "    </tr>\n",
       "    <tr>\n",
       "      <th>3935</th>\n",
       "      <td>realDonaldTrump</td>\n",
       "      <td>2019-03-17</td>\n",
       "      <td>13:33:17S</td>\n",
       "      <td>....must stay strong and fight back with vigor...</td>\n",
       "      <td>96276</td>\n",
       "      <td>23301</td>\n",
       "      <td>https://twitter.com/realDonaldTrump/status/110...</td>\n",
       "    </tr>\n",
       "    <tr>\n",
       "      <th>3936</th>\n",
       "      <td>realDonaldTrump</td>\n",
       "      <td>2019-03-17</td>\n",
       "      <td>13:18:17S</td>\n",
       "      <td>Bring back @JudgeJeanine Pirro. The Radical Le...</td>\n",
       "      <td>100225</td>\n",
       "      <td>30914</td>\n",
       "      <td>https://twitter.com/realDonaldTrump/status/110...</td>\n",
       "    </tr>\n",
       "    <tr>\n",
       "      <th>3937</th>\n",
       "      <td>realDonaldTrump</td>\n",
       "      <td>2019-03-17</td>\n",
       "      <td>12:50:17S</td>\n",
       "      <td>Happy St. Patrick’s Day!</td>\n",
       "      <td>64096</td>\n",
       "      <td>11950</td>\n",
       "      <td>https://twitter.com/realDonaldTrump/status/110...</td>\n",
       "    </tr>\n",
       "    <tr>\n",
       "      <th>3938</th>\n",
       "      <td>realDonaldTrump</td>\n",
       "      <td>2019-03-17</td>\n",
       "      <td>12:41:17S</td>\n",
       "      <td>So it was indeed (just proven in court papers)...</td>\n",
       "      <td>113068</td>\n",
       "      <td>29243</td>\n",
       "      <td>https://twitter.com/realDonaldTrump/status/110...</td>\n",
       "    </tr>\n",
       "    <tr>\n",
       "      <th>3939</th>\n",
       "      <td>realDonaldTrump</td>\n",
       "      <td>2019-03-17</td>\n",
       "      <td>12:23:17S</td>\n",
       "      <td>Report: Christopher Steele backed up his Democ...</td>\n",
       "      <td>65405</td>\n",
       "      <td>16751</td>\n",
       "      <td>https://twitter.com/realDonaldTrump/status/110...</td>\n",
       "    </tr>\n",
       "    <tr>\n",
       "      <th>3940</th>\n",
       "      <td>realDonaldTrump</td>\n",
       "      <td>2019-03-17</td>\n",
       "      <td>12:13:17S</td>\n",
       "      <td>....Should Federal Election Commission and/or ...</td>\n",
       "      <td>75290</td>\n",
       "      <td>16904</td>\n",
       "      <td>https://twitter.com/realDonaldTrump/status/110...</td>\n",
       "    </tr>\n",
       "    <tr>\n",
       "      <th>3941</th>\n",
       "      <td>realDonaldTrump</td>\n",
       "      <td>2019-03-17</td>\n",
       "      <td>11:59:17S</td>\n",
       "      <td>It’s truly incredible that shows like Saturday...</td>\n",
       "      <td>93544</td>\n",
       "      <td>17148</td>\n",
       "      <td>https://twitter.com/realDonaldTrump/status/110...</td>\n",
       "    </tr>\n",
       "  </tbody>\n",
       "</table>\n",
       "</div>"
      ],
      "text/plain": [
       "                   ID          날짜         시간  \\\n",
       "3928  realDonaldTrump  2019-03-17  23:16:17S   \n",
       "3929  realDonaldTrump  2019-03-17  22:27:17S   \n",
       "3930  realDonaldTrump  2019-03-17  20:58:17S   \n",
       "3931  realDonaldTrump  2019-03-17  18:18:17S   \n",
       "3932  realDonaldTrump  2019-03-17  17:38:17S   \n",
       "3933  realDonaldTrump  2019-03-17  13:53:17S   \n",
       "3934  realDonaldTrump  2019-03-17  13:44:17S   \n",
       "3935  realDonaldTrump  2019-03-17  13:33:17S   \n",
       "3936  realDonaldTrump  2019-03-17  13:18:17S   \n",
       "3937  realDonaldTrump  2019-03-17  12:50:17S   \n",
       "3938  realDonaldTrump  2019-03-17  12:41:17S   \n",
       "3939  realDonaldTrump  2019-03-17  12:23:17S   \n",
       "3940  realDonaldTrump  2019-03-17  12:13:17S   \n",
       "3941  realDonaldTrump  2019-03-17  11:59:17S   \n",
       "\n",
       "                                                     내용   리트윗 수  좋아요 수  \\\n",
       "3928  What the Democrats have done in trying to stea...  117913  31997   \n",
       "3929  Just spoke to Mary Barra, CEO of General Motor...  104474  21342   \n",
       "3930  Those Republican Senators who voted in favor o...   85166  19098   \n",
       "3931  Were @FoxNews weekend anchors, @ArthelNeville ...   73649  18653   \n",
       "3932  Democrat UAW Local 1112 President David Green ...   59097  13355   \n",
       "3933                                                NaN   44036  12079   \n",
       "3934  ....to the people that got you there. Keep fig...  104621  28649   \n",
       "3935  ....must stay strong and fight back with vigor...   96276  23301   \n",
       "3936  Bring back @JudgeJeanine Pirro. The Radical Le...  100225  30914   \n",
       "3937                          Happy St. Patrick’s Day!    64096  11950   \n",
       "3938  So it was indeed (just proven in court papers)...  113068  29243   \n",
       "3939  Report: Christopher Steele backed up his Democ...   65405  16751   \n",
       "3940  ....Should Federal Election Commission and/or ...   75290  16904   \n",
       "3941  It’s truly incredible that shows like Saturday...   93544  17148   \n",
       "\n",
       "                                                     링크  \n",
       "3928  https://twitter.com/realDonaldTrump/status/110...  \n",
       "3929  https://twitter.com/realDonaldTrump/status/110...  \n",
       "3930  https://twitter.com/realDonaldTrump/status/110...  \n",
       "3931  https://twitter.com/realDonaldTrump/status/110...  \n",
       "3932  https://twitter.com/realDonaldTrump/status/110...  \n",
       "3933  https://twitter.com/realDonaldTrump/status/110...  \n",
       "3934  https://twitter.com/realDonaldTrump/status/110...  \n",
       "3935  https://twitter.com/realDonaldTrump/status/110...  \n",
       "3936  https://twitter.com/realDonaldTrump/status/110...  \n",
       "3937  https://twitter.com/realDonaldTrump/status/110...  \n",
       "3938  https://twitter.com/realDonaldTrump/status/110...  \n",
       "3939  https://twitter.com/realDonaldTrump/status/110...  \n",
       "3940  https://twitter.com/realDonaldTrump/status/110...  \n",
       "3941  https://twitter.com/realDonaldTrump/status/110...  "
      ]
     },
     "execution_count": 67,
     "metadata": {},
     "output_type": "execute_result"
    }
   ],
   "source": [
    "crazy_day = df_tweet[crazy_date]\n",
    "crazy_day"
   ]
  },
  {
   "cell_type": "code",
   "execution_count": null,
   "metadata": {},
   "outputs": [],
   "source": []
  }
 ],
 "metadata": {
  "kernelspec": {
   "display_name": "Python 3",
   "language": "python",
   "name": "python3"
  },
  "language_info": {
   "codemirror_mode": {
    "name": "ipython",
    "version": 3
   },
   "file_extension": ".py",
   "mimetype": "text/x-python",
   "name": "python",
   "nbconvert_exporter": "python",
   "pygments_lexer": "ipython3",
   "version": "3.7.3"
  }
 },
 "nbformat": 4,
 "nbformat_minor": 2
}

{
 "cells": [
  {
   "cell_type": "code",
   "execution_count": 2,
   "metadata": {},
   "outputs": [
    {
     "name": "stdout",
     "output_type": "stream",
     "text": [
      "Collecting twitter\n",
      "  Downloading twitter-1.18.0-py2.py3-none-any.whl (54 kB)\n",
      "Installing collected packages: twitter\n",
      "Successfully installed twitter-1.18.0\n",
      "Note: you may need to restart the kernel to use updated packages.\n"
     ]
    }
   ],
   "source": [
    "pip install twitter"
   ]
  },
  {
   "cell_type": "code",
   "execution_count": 3,
   "metadata": {},
   "outputs": [],
   "source": [
    "from twitter import Twitter,OAuth\n",
    "import pandas as pd\n",
    "import numpy as np\n",
    "from bs4 import BeautifulSoup\n",
    "class Twitt:\n",
    "    def __init__(self):\n",
    "        consumer_key = \"NZr52gSnGgO0ZJku9btQMOJZ4\" \n",
    "        consumer_secret = \"Ek2ZrIWxZxHNT8Ss2IANGl813Pa1Zj8AfewftMKuH9yIveGEUb\" \n",
    "        access_token = \"96157284-OZdynzK4c8DX5P59doQfd2tseWQmZlwKAjj51U4eO\" \n",
    "        access_token_secret = \"ZgNC46uSpGc6w3lqdUKX7WT9MSpBYr0mDHtdd5ao8EDLA\" \n",
    "        self.t = Twitter(auth= OAuth(access_token,access_token_secret,consumer_key,consumer_secret))\n",
    "    \n",
    "    def user_details(self):\n",
    "        pythonStatuses = self.t.statuses.user_timeline(screen_name=\"****\", count= 10,tweet_mode='extended')\n",
    "        return pythonStatuses"
   ]
  },
  {
   "cell_type": "code",
   "execution_count": null,
   "metadata": {},
   "outputs": [],
   "source": []
  }
 ],
 "metadata": {
  "kernelspec": {
   "display_name": "Python 3",
   "language": "python",
   "name": "python3"
  },
  "language_info": {
   "codemirror_mode": {
    "name": "ipython",
    "version": 3
   },
   "file_extension": ".py",
   "mimetype": "text/x-python",
   "name": "python",
   "nbconvert_exporter": "python",
   "pygments_lexer": "ipython3",
   "version": "3.7.7"
  },
  "toc": {
   "base_numbering": 1,
   "nav_menu": {},
   "number_sections": true,
   "sideBar": true,
   "skip_h1_title": false,
   "title_cell": "Table of Contents",
   "title_sidebar": "Contents",
   "toc_cell": false,
   "toc_position": {},
   "toc_section_display": true,
   "toc_window_display": false
  },
  "varInspector": {
   "cols": {
    "lenName": 16,
    "lenType": 16,
    "lenVar": 40
   },
   "kernels_config": {
    "python": {
     "delete_cmd_postfix": "",
     "delete_cmd_prefix": "del ",
     "library": "var_list.py",
     "varRefreshCmd": "print(var_dic_list())"
    },
    "r": {
     "delete_cmd_postfix": ") ",
     "delete_cmd_prefix": "rm(",
     "library": "var_list.r",
     "varRefreshCmd": "cat(var_dic_list()) "
    }
   },
   "types_to_exclude": [
    "module",
    "function",
    "builtin_function_or_method",
    "instance",
    "_Feature"
   ],
   "window_display": false
  }
 },
 "nbformat": 4,
 "nbformat_minor": 4
}
